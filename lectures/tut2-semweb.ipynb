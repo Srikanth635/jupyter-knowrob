{
 "cells": [
  {
   "cell_type": "markdown",
   "id": "f61df979-e2e5-48f5-a45d-29ab0f26d4e2",
   "metadata": {},
   "source": [
    "Tutorial 2: Semantic Web\n",
    "===\n",
    "\n",
    "This course is concerned with symbolic knowledge representation\n",
    "using standardized languages of the semantic web.\n",
    "The semantic web has a layered architecture.\n",
    "\n",
    "Its basis is XML syntax for content structure within documents.\n",
    "The next layer is the Resource Description Framework (RDF),\n",
    "which is a simple language for expressing data models.\n",
    "\n",
    "<div align=\"center\">\n",
    "<img src=\"https://upload.wikimedia.org/wikipedia/commons/thumb/f/f7/Semantic_web_stack.svg/405px-Semantic_web_stack.svg.png\" alt=\"Smiley face\" width=\"320\">\n",
    "</div><br>\n",
    "\n",
    "RDF Schema extends RDF and is a vocabulary\n",
    "for describing properties and classes of RDF-based resources.\n",
    "The OWL layer adds more expressive elements to describe\n",
    "classes and their relationships, e.g.,\n",
    "existential (there must be some) and\n",
    "universal (there can only be)\n",
    "restrictions on class properties.\n",
    "We will have a closer look at the RDFS and OWL layer during this course.\n",
    "\n",
    "It may seem tedious to deal with these formal languages.\n",
    "And in fact, it is non trivial to master them.\n",
    "So what do we gain by employing semantic web technologies?\n",
    "\n",
    "One gain is being able to perform automated reasoning.\n",
    "This is possible because the languages are formally defined\n",
    "and computationally well understood.\n",
    "It is also useful to represent domain terminologies on which\n",
    "all involved parties agree upon.\n",
    "This is important to avoid confusion about what the\n",
    "specific meaning of a term is.\n",
    "Interdisciplinary projects, such as EASE, further need\n",
    "a foundational basis for combining\n",
    "data coming from different sub-projects.\n",
    "This is to clarify foundational questions such as:\n",
    "\n",
    "  * What is a `Situation`, `Event`, `Process`, `Motion`,`Action`?\n",
    "  * Is `Reaching` an `Action` or a `Motion`?\n",
    "\n",
    "\n",
    "Resource Description Framework (RDF)\n",
    "-----------------------------------------------------------------\n",
    "\n",
    "The RDF data model is similar to classical conceptual modeling approaches such as entity-relationship or class diagrams,\n",
    "as it is based upon the idea of making statements about resources (in particular web resources) in the form of subject-predicate-object expressions.\n",
    "These expressions are known as triples in RDF terminology.\n",
    "The subject denotes the resource we want to make a statement about,\n",
    "and the predicate denotes traits or aspects of the subject\n",
    "and expresses a relationship between the subject and the object. \n",
    "\n",
    "In RDF terminology, subjects, objects, and also predicates\n",
    "are resources.\n",
    "Each resource is identified by a unique name, the *IRI*\n",
    "(Internationalized Resource Identifier) which is\n",
    "a URI pointing to the definition of the resource.\n",
    "An example IRI is the following one:\n",
    "\n",
    "<pre>\n",
    "http://www.ease-crc.org/ont/SOMA.owl#Dishwasher\n",
    "</pre>\n",
    "\n",
    "In Prolog, IRIs are represented as atom, i.e. `'http://knowrob.org/kb/PR2.owl#PR2_0'`.\n",
    "To avoid writing the full IRI, namespace prefixes are used\n",
    "which can be dynamically registered in case some external ontology is used\n",
    "for which the prefix was not registered in advance.\n",
    "You can use `rdf_current_ns/2` to list existing namespaces:"
   ]
  },
  {
   "cell_type": "code",
   "execution_count": 1,
   "id": "5834a007-6fee-42ec-98da-094c60d56aea",
   "metadata": {},
   "outputs": [
    {
     "name": "stdout",
     "output_type": "stream",
     "text": [
      "true"
     ]
    }
   ],
   "source": [
    "rdf_current_ns(soma,_)."
   ]
  },
  {
   "cell_type": "markdown",
   "id": "b05ce658-fb8c-4343-a782-90be0a2747fc",
   "metadata": {},
   "source": [
    "i.e. we can also write `soma:'Placing'`. SOMA is an ontological model for defining \n",
    "everyday activities for robots to perform, inspired by DUL foundational ontology. \n",
    "More information about SOMA can be accessed at [SOMA](https://ease-crc.github.io/soma/)\n",
    "\n",
    "Unfortunately, the automated term expansion won't work for the rules\n",
    "you write during the TransAIR conference.\n",
    "The KB `RDF` declares a rule `expand/2` that needs to be used\n",
    "for arguments using the prefix notation,\n",
    "because rdf predicates expect IRI atoms, and not terms.\n",
    "\n",
    "The core of KnowRob is an extendable querying interface that\n",
    "provides basic operations *ask*, *tell*, *forget*, and *remember* implemented \n",
    "in SWI-Prolog. It provides a predicate `triple/3` to query the RDF triple store:"
   ]
  },
  {
   "cell_type": "code",
   "execution_count": 1,
   "id": "6c8e0948-0808-4c50-8ef2-68240a9f2bf9",
   "metadata": {},
   "outputs": [
    {
     "name": "stdout",
     "output_type": "stream",
     "text": [
      "false"
     ]
    }
   ],
   "source": [
    "triple(soma:'Dishwasher',Predicate,Object)."
   ]
  },
  {
   "cell_type": "markdown",
   "id": "39d16ad7-4778-4d5e-9e8b-121eee928910",
   "metadata": {},
   "source": [
    "The \"object\" of triples may also be a data value instead of a resource.\n",
    "Depending on the Prolog version, these are repesented either\n",
    "as term `literal(type(Type,Value))` or, in a newer version,\n",
    "as `Value^^Type`.\n",
    "\n",
    "The semantic web supports distributed class definitions.\n",
    "Meaning that different aspects of some class can be defined\n",
    "in separate modules.\n",
    "\n",
    "Language interface of Knowrob offers some predicates to query the RDF triple store\n",
    "with RDFS semantics.\n",
    "These are `is_a/2`, `instance_of/2`, `subclass_of/2`,\n",
    "and `subproperty_of/2`."
   ]
  },
  {
   "cell_type": "code",
   "execution_count": 1,
   "id": "43003817-5528-4812-baa9-35e96d2d9087",
   "metadata": {},
   "outputs": [
    {
     "name": "stdout",
     "output_type": "stream",
     "text": [
      "true"
     ]
    }
   ],
   "source": [
    "is_a(soma:'Placing', dul:'Task'),\n",
    "instance_of(soma:'Placing', owl:'Class')."
   ]
  },
  {
   "cell_type": "code",
   "execution_count": null,
   "id": "cc10db30-7dce-46e6-a0af-ca781b7f96c9",
   "metadata": {},
   "outputs": [],
   "source": []
  }
 ],
 "metadata": {
  "kernelspec": {
   "display_name": "KnowRob",
   "language": "",
   "name": "jknowrob"
  },
  "language_info": {
   "mimetype": "text/plain",
   "name": "swipl"
  }
 },
 "nbformat": 4,
 "nbformat_minor": 5
}
